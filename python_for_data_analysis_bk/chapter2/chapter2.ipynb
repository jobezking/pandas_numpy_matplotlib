{
 "cells": [
  {
   "cell_type": "code",
   "execution_count": 4,
   "id": "59dd9ee9-7bb1-4ad3-8303-d0d2ce6d7c61",
   "metadata": {},
   "outputs": [
    {
     "name": "stdout",
     "output_type": "stream",
     "text": [
      "148.71428571428572\n"
     ]
    }
   ],
   "source": [
    "def calculate_average(numbers):\n",
    "    total = sum(numbers)\n",
    "    count = len(numbers)\n",
    "    average = total/count\n",
    "    return (average)\n",
    "\n",
    "numlist = [3,900,88,-6,6,0,50]\n",
    "print(calculate_average(numlist))"
   ]
  },
  {
   "cell_type": "code",
   "execution_count": 1,
   "id": "a6cfa715-f3a6-4670-97b8-3232dcb50d4e",
   "metadata": {},
   "outputs": [
    {
     "name": "stdout",
     "output_type": "stream",
     "text": [
      "apple\n",
      "banana\n",
      "cherry\n"
     ]
    }
   ],
   "source": [
    "fruits = [\"apple\", \"banana\", \"cherry\"]\n",
    "for fruit in fruits:\n",
    "    print(fruit)"
   ]
  },
  {
   "cell_type": "code",
   "execution_count": 6,
   "id": "619b5dbd-a02a-4b8b-aec6-d5057d655725",
   "metadata": {},
   "outputs": [
    {
     "name": "stdout",
     "output_type": "stream",
     "text": [
      "[2, 4, 6, 8]\n",
      "2.5\n",
      "5.0\n"
     ]
    }
   ],
   "source": [
    "numbers = [1,2,3,4]\n",
    "doubled = []\n",
    "for num in numbers:\n",
    "    doubled.append(num * 2)\n",
    "print(doubled)\n",
    "print(calculate_average(numbers))\n",
    "print(calculate_average(doubled))"
   ]
  },
  {
   "cell_type": "code",
   "execution_count": 11,
   "id": "d85e8c19-714b-45eb-9c58-87de2831c050",
   "metadata": {},
   "outputs": [
    {
     "name": "stdout",
     "output_type": "stream",
     "text": [
      "9\n"
     ]
    }
   ],
   "source": [
    "test = 0\n",
    "teaser = 0\n",
    "avg = []\n",
    "while teaser < 5:\n",
    "    test += 1\n",
    "    avg.append(test)\n",
    "    teaser = calculate_average(avg)\n",
    "print(test)"
   ]
  },
  {
   "cell_type": "code",
   "execution_count": null,
   "id": "69e19246-74ad-47ac-b9ff-ab69b77c7ea8",
   "metadata": {},
   "outputs": [],
   "source": []
  }
 ],
 "metadata": {
  "kernelspec": {
   "display_name": "Python 3 (ipykernel)",
   "language": "python",
   "name": "python3"
  },
  "language_info": {
   "codemirror_mode": {
    "name": "ipython",
    "version": 3
   },
   "file_extension": ".py",
   "mimetype": "text/x-python",
   "name": "python",
   "nbconvert_exporter": "python",
   "pygments_lexer": "ipython3",
   "version": "3.12.7"
  }
 },
 "nbformat": 4,
 "nbformat_minor": 5
}
