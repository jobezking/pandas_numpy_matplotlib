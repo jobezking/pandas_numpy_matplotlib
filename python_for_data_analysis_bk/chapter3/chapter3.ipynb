{
 "cells": [
  {
   "cell_type": "code",
   "execution_count": 3,
   "id": "df28b3a3-47ca-43f7-9684-77a9aa0939cf",
   "metadata": {},
   "outputs": [],
   "source": [
    "import numpy as np"
   ]
  },
  {
   "cell_type": "code",
   "execution_count": 2,
   "id": "55d7c205-f713-4150-957d-2aa8d295afee",
   "metadata": {},
   "outputs": [
    {
     "name": "stdout",
     "output_type": "stream",
     "text": [
      "NumPy Array:  [ 5 10 15 20]\n"
     ]
    }
   ],
   "source": [
    "# Step 1: create list of numbers\n",
    "my_list = [5, 10, 15, 20]\n",
    "\n",
    "# Step 2: convert list into NumPy array\n",
    "my_array = np.array(my_list)\n",
    "\n",
    "# Step 3: Print array to see result\n",
    "print(\"NumPy Array: \", my_array)"
   ]
  },
  {
   "cell_type": "code",
   "execution_count": 3,
   "id": "442778f2-e954-4e6f-9892-6ccf00c65aff",
   "metadata": {},
   "outputs": [
    {
     "name": "stdout",
     "output_type": "stream",
     "text": [
      "[[[1 2 3]\n",
      "  [4 5 6]\n",
      "  [7 8 9]]\n",
      "\n",
      " [[1 2 3]\n",
      "  [4 5 6]\n",
      "  [7 8 9]]\n",
      "\n",
      " [[1 2 3]\n",
      "  [4 5 6]\n",
      "  [7 8 9]]]\n"
     ]
    }
   ],
   "source": [
    "# Multi-dimensional\n",
    "# Step 1: create nested list\n",
    "a = [1,2,3]\n",
    "b = [4,5,6]\n",
    "c = [7,8,9]\n",
    "nested_list = [[a,b,c],[a,b,c],[a,b,c]]\n",
    "matrix = np.array(nested_list)\n",
    "print(matrix)"
   ]
  },
  {
   "cell_type": "code",
   "execution_count": 4,
   "id": "883fb8e6-8c79-40a9-9fdb-540daafa2ae0",
   "metadata": {},
   "outputs": [
    {
     "name": "stdout",
     "output_type": "stream",
     "text": [
      "Shape of matrix:  (3, 3, 3)\n",
      "Total elements:  27\n",
      "Data Type:  int64\n"
     ]
    }
   ],
   "source": [
    "#array inspection\n",
    "print(\"Shape of matrix: \", matrix.shape)    # dimensions (number of rows)\n",
    "print(\"Total elements: \", matrix.size)      # Number of elements\n",
    "print(\"Data Type: \", matrix.dtype)          # Type of elements"
   ]
  },
  {
   "cell_type": "code",
   "execution_count": 5,
   "id": "6b82a99b-2458-4fab-8c71-77640067fffa",
   "metadata": {},
   "outputs": [
    {
     "name": "stdout",
     "output_type": "stream",
     "text": [
      "[[[0. 0. 0. 0. 0.]\n",
      "  [0. 0. 0. 0. 0.]\n",
      "  [0. 0. 0. 0. 0.]\n",
      "  [0. 0. 0. 0. 0.]]\n",
      "\n",
      " [[0. 0. 0. 0. 0.]\n",
      "  [0. 0. 0. 0. 0.]\n",
      "  [0. 0. 0. 0. 0.]\n",
      "  [0. 0. 0. 0. 0.]]\n",
      "\n",
      " [[0. 0. 0. 0. 0.]\n",
      "  [0. 0. 0. 0. 0.]\n",
      "  [0. 0. 0. 0. 0.]\n",
      "  [0. 0. 0. 0. 0.]]]\n",
      "[[1. 1. 1. 1. 1.]\n",
      " [1. 1. 1. 1. 1.]]\n",
      "[[0.77574708 0.12713069 0.70781545]\n",
      " [0.24858964 0.71731784 0.16600647]\n",
      " [0.26678382 0.62841175 0.24147813]]\n"
     ]
    }
   ],
   "source": [
    "# array creation\n",
    "zeroes = np.zeros((3,4,5))\n",
    "ones = np.ones((2,5))\n",
    "randoms = np.random.rand(3,3)\n",
    "print(zeroes)\n",
    "print(ones)\n",
    "print(randoms)"
   ]
  },
  {
   "cell_type": "code",
   "execution_count": 7,
   "id": "efac6433-715c-450a-9f98-894fa58c1131",
   "metadata": {},
   "outputs": [
    {
     "name": "stdout",
     "output_type": "stream",
     "text": [
      "Array with floats:  [1. 2. 3.]  Data Type:  float64\n"
     ]
    }
   ],
   "source": [
    "#Changing data types\n",
    "float_array = np.array([1,2,3], dtype = float)\n",
    "print(\"Array with floats: \", float_array, \" Data Type: \",float_array.dtype)"
   ]
  },
  {
   "cell_type": "code",
   "execution_count": 6,
   "id": "075b1bda-5e25-41e6-9b16-845718be1b3e",
   "metadata": {},
   "outputs": [
    {
     "name": "stdout",
     "output_type": "stream",
     "text": [
      "[5 7 9]\n",
      "[3 3 3]\n",
      "[ 4 10 18]\n",
      "[4.  2.5 2. ]\n",
      "[0 1 0]\n"
     ]
    }
   ],
   "source": [
    "# Define two arrays of the same shape\n",
    "array1 = np.array([1,2,3])\n",
    "array2 = np.array([4,5,6])\n",
    "print(array1 + array2)\n",
    "print(array2 - array1)\n",
    "print(array1 * array2)\n",
    "print(array2 / array1)\n",
    "print(array2 % array1)"
   ]
  },
  {
   "cell_type": "code",
   "execution_count": 7,
   "id": "38daee01-aef3-44b0-91b3-7bc974581b3f",
   "metadata": {},
   "outputs": [
    {
     "name": "stdout",
     "output_type": "stream",
     "text": [
      "[3 6 9]\n"
     ]
    }
   ],
   "source": [
    "# Scalar operations\n",
    "print(array1 * 3)"
   ]
  },
  {
   "cell_type": "code",
   "execution_count": 8,
   "id": "4e97e59f-512d-4ed8-adc1-5cb7c04cf021",
   "metadata": {},
   "outputs": [
    {
     "name": "stdout",
     "output_type": "stream",
     "text": [
      "[[11 22 33]\n",
      " [14 25 36]\n",
      " [17 28 39]]\n"
     ]
    }
   ],
   "source": [
    "# Broadcastng: making arrays owith different shapes compatible for element-wise operations i.e. adding 1D array to 2D array\n",
    "matrix = np.array([[1,2,3],[4,5,6],[7,8,9]])\n",
    "vector = np.array([10,20,30])\n",
    "print(matrix+vector)"
   ]
  },
  {
   "cell_type": "code",
   "execution_count": null,
   "id": "9d717d47-e72a-40ed-a479-d6a56521f26c",
   "metadata": {},
   "outputs": [],
   "source": []
  }
 ],
 "metadata": {
  "kernelspec": {
   "display_name": "Python 3 (ipykernel)",
   "language": "python",
   "name": "python3"
  },
  "language_info": {
   "codemirror_mode": {
    "name": "ipython",
    "version": 3
   },
   "file_extension": ".py",
   "mimetype": "text/x-python",
   "name": "python",
   "nbconvert_exporter": "python",
   "pygments_lexer": "ipython3",
   "version": "3.12.7"
  }
 },
 "nbformat": 4,
 "nbformat_minor": 5
}
