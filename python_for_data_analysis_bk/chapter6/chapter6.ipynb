{
 "cells": [
  {
   "cell_type": "code",
   "execution_count": 1,
   "id": "7186f4f3-0915-4d07-855b-d073ba49d8a4",
   "metadata": {},
   "outputs": [],
   "source": [
    "import pandas as pd"
   ]
  },
  {
   "cell_type": "code",
   "execution_count": 2,
   "id": "b48f282a-0048-4e25-be8d-337e02bfdd76",
   "metadata": {},
   "outputs": [
    {
     "name": "stdout",
     "output_type": "stream",
     "text": [
      "  Department Employee  Salary\n",
      "0         HR    Alice   50000\n",
      "1         IT      Bob   60000\n",
      "2         HR    Carol   52000\n",
      "3         IT     Dave   65000\n",
      "4    Finance      Eve   70000\n",
      "5    Finance    Frank   72000\n",
      "6         IT    Grace   68000\n"
     ]
    }
   ],
   "source": [
    "data = {\n",
    "    'Department': ['HR', 'IT', 'HR', 'IT', 'Finance', 'Finance', 'IT'],\n",
    "    'Employee': ['Alice', 'Bob', 'Carol', 'Dave', 'Eve', 'Frank', 'Grace'],\n",
    "    'Salary': [50000, 60000, 52000, 65000, 70000, 72000, 68000]\n",
    "}\n",
    "\n",
    "df = pd.DataFrame(data)\n",
    "print(df)"
   ]
  },
  {
   "cell_type": "code",
   "execution_count": 3,
   "id": "9632877c-b8bb-4c84-95cc-48f33544aa30",
   "metadata": {},
   "outputs": [
    {
     "name": "stdout",
     "output_type": "stream",
     "text": [
      "Department\n",
      "Finance    71000.000000\n",
      "HR         51000.000000\n",
      "IT         64333.333333\n",
      "Name: Salary, dtype: float64\n"
     ]
    }
   ],
   "source": [
    "grouped = df.groupby('Department')\n",
    "average_salary = grouped['Salary'].mean()\n",
    "print(average_salary)"
   ]
  },
  {
   "cell_type": "code",
   "execution_count": 4,
   "id": "0c4d4108-48fe-4a22-9ea3-c0d04e6a08a4",
   "metadata": {},
   "outputs": [
    {
     "name": "stdout",
     "output_type": "stream",
     "text": [
      "                    mean    min    max  count\n",
      "Department                                   \n",
      "Finance     71000.000000  70000  72000      2\n",
      "HR          51000.000000  50000  52000      2\n",
      "IT          64333.333333  60000  68000      3\n"
     ]
    }
   ],
   "source": [
    "#applying multiple aggregations\n",
    "summary = grouped['Salary'].agg(['mean', 'min', 'max', 'count']) \n",
    "print(summary)"
   ]
  },
  {
   "cell_type": "code",
   "execution_count": 5,
   "id": "81cd3ac2-3d13-4dda-82e7-039546074555",
   "metadata": {},
   "outputs": [
    {
     "name": "stdout",
     "output_type": "stream",
     "text": [
      "Department  Role   \n",
      "Finance     Analyst    70000.0\n",
      "            Manager    72000.0\n",
      "HR          Analyst    52000.0\n",
      "            Manager    50000.0\n",
      "IT          Analyst    64000.0\n",
      "            Manager    65000.0\n",
      "Name: Salary, dtype: float64\n"
     ]
    }
   ],
   "source": [
    "#grouping by multiple columns\n",
    "data = {\n",
    "    'Department': ['HR', 'IT', 'HR', 'IT', 'Finance', 'Finance', 'IT'],\n",
    "    'Role': ['Manager', 'Analyst', 'Analyst', 'Manager', 'Analyst', 'Manager', 'Analyst'],\n",
    "    'Employee': ['Alice', 'Bob', 'Carol', 'Dave', 'Eve', 'Frank', 'Grace'],\n",
    "    'Salary': [50000, 60000, 52000, 65000, 70000, 72000, 68000]\n",
    "}\n",
    "\n",
    "df = pd.DataFrame(data)\n",
    "\n",
    "#Grouping by Department and role\n",
    "grouped = df.groupby(['Department', 'Role'])['Salary'].mean() \n",
    "print(grouped)"
   ]
  },
  {
   "cell_type": "code",
   "execution_count": 7,
   "id": "23af34d7-6c45-442a-b057-822b50e5c608",
   "metadata": {},
   "outputs": [],
   "source": [
    "#Custom range function\n",
    "def salary_range(series):\n",
    "    return series.max - series.min()\n",
    "\n",
    "#range_by_dept = df.groupby('Department')['Salary'].agg(salary_range)\n",
    "#print(range_by_dept)"
   ]
  },
  {
   "cell_type": "code",
   "execution_count": 9,
   "id": "256f7ce0-0da4-4dd6-9b84-446cd032a773",
   "metadata": {},
   "outputs": [
    {
     "name": "stdout",
     "output_type": "stream",
     "text": [
      "  Region  Product  Sales\n",
      "0   East   Apples    100\n",
      "1   West   Apples    120\n",
      "2   East  Bananas     90\n",
      "3   West  Bananas    110\n",
      "4   East   Apples     95\n",
      "5   West  Bananas    105\n",
      "6   East  Bananas     85\n",
      "7   West   Apples    130\n",
      "Product  Apples  Bananas\n",
      "Region                  \n",
      "East        195      175\n",
      "West        250      215\n"
     ]
    }
   ],
   "source": [
    "data = {\n",
    "    'Region': ['East', 'West', 'East', 'West', 'East', 'West', 'East', 'West'],\n",
    "    'Product': ['Apples', 'Apples', 'Bananas', 'Bananas', 'Apples', 'Bananas', 'Bananas', 'Apples'],\n",
    "    'Sales': [100, 120, 90, 110, 95, 105, 85, 130]\n",
    "}\n",
    "\n",
    "df = pd.DataFrame(data)\n",
    "print(df)\n",
    "\n",
    "pivot = pd.pivot_table(df,index='Region',columns='Product',values='Sales',aggfunc='sum',fill_value=0)\n",
    "print(pivot)"
   ]
  },
  {
   "cell_type": "code",
   "execution_count": 13,
   "id": "9917d5b6-3f36-416c-9573-555df986c5c4",
   "metadata": {},
   "outputs": [
    {
     "name": "stdout",
     "output_type": "stream",
     "text": [
      "Response  No  Yes\n",
      "Gender           \n",
      "Female     2    2\n",
      "Male       1    2\n",
      "Response  No  Yes  All\n",
      "Gender                \n",
      "Female     2    2    4\n",
      "Male       1    2    3\n",
      "All        3    4    7\n"
     ]
    }
   ],
   "source": [
    "survey_data = {\n",
    "    'Gender': ['Male', 'Female', 'Female', 'Male', 'Male', 'Female', 'Female'],\n",
    "    'Response': ['Yes', 'No', 'Yes', 'No', 'Yes', 'Yes', 'No']\n",
    "}\n",
    "\n",
    "survey_df = pd.DataFrame(survey_data)\n",
    "#Cross tabulation of gender and response\n",
    "cross = pd.crosstab(survey_df['Gender'],survey_df['Response'])\n",
    "print(cross)\n",
    "print(pd.crosstab(survey_df['Gender'], survey_df['Response'], margins=True))"
   ]
  },
  {
   "cell_type": "code",
   "execution_count": 14,
   "id": "bdd72082-26e3-462e-871e-347d0aa60e76",
   "metadata": {},
   "outputs": [
    {
     "name": "stdout",
     "output_type": "stream",
     "text": [
      "Product  Apples  Bananas\n",
      "Region                  \n",
      "East       97.5     87.5\n",
      "West      125.0    107.5\n"
     ]
    }
   ],
   "source": [
    "pivot = pd.pivot_table(df, index='Region', columns='Product', values='Sales', aggfunc='mean') \n",
    "print(pivot.round(2))\n",
    "pivot_reset = pivot.reset_index()"
   ]
  },
  {
   "cell_type": "code",
   "execution_count": 20,
   "id": "9e44878e-1433-4082-949d-2e04b05e0f01",
   "metadata": {},
   "outputs": [
    {
     "name": "stdout",
     "output_type": "stream",
     "text": [
      "   OrderID  CustomerID  Amount   Name\n",
      "0      101           1     250  Alice\n",
      "1      102           2     150    Bob\n",
      "2      103           2     100    Bob\n",
      "3      104           4     300  David\n"
     ]
    }
   ],
   "source": [
    "# Customer information \n",
    "customers = pd.DataFrame({ \n",
    "    'CustomerID': [1, 2, 3, 4],\n",
    "    'Name': ['Alice', 'Bob', 'Charlie', 'David'] \n",
    "})\n",
    "# Orders data \n",
    "orders = pd.DataFrame({\n",
    "    'OrderID': [101, 102, 103, 104], \n",
    "    'CustomerID': [1, 2, 2, 4], \n",
    "    'Amount': [250, 150, 100, 300] \n",
    "})\n",
    "merged_df = pd.merge(orders, customers, on='CustomerID') \n",
    "print(merged_df)"
   ]
  },
  {
   "cell_type": "code",
   "execution_count": 21,
   "id": "44e204bc-b330-4f72-a9f4-12ec07b53c68",
   "metadata": {},
   "outputs": [
    {
     "name": "stdout",
     "output_type": "stream",
     "text": [
      "   CustomerID     Name  OrderID  Amount\n",
      "0           1    Alice    101.0   250.0\n",
      "1           2      Bob    102.0   150.0\n",
      "2           2      Bob    103.0   100.0\n",
      "3           3  Charlie      NaN     NaN\n",
      "4           4    David    104.0   300.0\n",
      "5           5      Eve      NaN     NaN\n",
      "   CustomerID   Name  OrderID  Amount\n",
      "0           1  Alice      101     250\n",
      "1           2    Bob      102     150\n",
      "2           2    Bob      103     100\n",
      "3           4  David      104     300\n",
      "   CustomerID     Name  OrderID  Amount\n",
      "0           1    Alice    101.0   250.0\n",
      "1           2      Bob    102.0   150.0\n",
      "2           2      Bob    103.0   100.0\n",
      "3           3  Charlie      NaN     NaN\n",
      "4           4    David    104.0   300.0\n",
      "5           5      Eve      NaN     NaN\n"
     ]
    }
   ],
   "source": [
    "new_customers = pd.DataFrame({\n",
    "    'CustomerID': [1, 2, 3, 4, 5],\n",
    "    'Name': ['Alice', 'Bob', 'Charlie', 'David', 'Eve']\n",
    "})\n",
    "\n",
    "left_join = pd.merge(new_customers, orders, on='CustomerID', how='left')\n",
    "inner_join = pd.merge(new_customers, orders, on='CustomerID', how='inner')\n",
    "outer_join = pd.merge(new_customers, orders, on='CustomerID', how='outer')\n",
    "print(left_join)\n",
    "print(inner_join)\n",
    "print(outer_join)"
   ]
  },
  {
   "cell_type": "code",
   "execution_count": 23,
   "id": "3b424c79-419a-46e3-b215-00dd67a0260f",
   "metadata": {},
   "outputs": [
    {
     "name": "stdout",
     "output_type": "stream",
     "text": [
      "   ID Name_customer Name_product\n",
      "0   1         Alice    Product A\n",
      "1   2           Bob    Product B\n"
     ]
    }
   ],
   "source": [
    "df1 = pd.DataFrame({\n",
    "    'ID': [1, 2],\n",
    "    'Name': ['Alice', 'Bob']\n",
    "})\n",
    "df2 = pd.DataFrame({\n",
    "    'ID': [1, 2],\n",
    "    'Name': ['Product A', 'Product B']\n",
    "})\n",
    "merged = pd.merge(df1, df2, on='ID', suffixes=('_customer', '_product')) \n",
    "print(merged)"
   ]
  },
  {
   "cell_type": "code",
   "execution_count": 24,
   "id": "2713f634-13af-4c40-a663-8d68da5d2f78",
   "metadata": {},
   "outputs": [
    {
     "name": "stdout",
     "output_type": "stream",
     "text": [
      "    Name  Order\n",
      "1  Alice    101\n",
      "2    Bob    102\n"
     ]
    }
   ],
   "source": [
    "df1 = pd.DataFrame({'Name': ['Alice', 'Bob']}, index=[1, 2])\n",
    "df2 = pd.DataFrame({'Order': [101, 102]}, index=[1, 2])\n",
    "joined = df1.join(df2)\n",
    "print(joined)"
   ]
  },
  {
   "cell_type": "code",
   "execution_count": 25,
   "id": "b8fee9cb-1d5d-4838-93b8-c4b184a0ba01",
   "metadata": {},
   "outputs": [
    {
     "name": "stdout",
     "output_type": "stream",
     "text": [
      "  Product  Sales\n",
      "0       A    100\n",
      "1       B    150\n",
      "2       A    120\n",
      "3       B    130\n",
      "4       A    140\n",
      "5       B    160\n"
     ]
    }
   ],
   "source": [
    "jan = pd.DataFrame({'Product': ['A', 'B'], 'Sales': [100, 150]})\n",
    "feb = pd.DataFrame({'Product': ['A', 'B'], 'Sales': [120, 130]})\n",
    "mar = pd.DataFrame({'Product': ['A', 'B'], 'Sales': [140, 160]})\n",
    "combined = pd.concat([jan, feb, mar], ignore_index=True)\n",
    "print(combined)"
   ]
  },
  {
   "cell_type": "code",
   "execution_count": 27,
   "id": "2078ca7b-4712-4f5f-9234-cb855f6eea56",
   "metadata": {},
   "outputs": [
    {
     "name": "stdout",
     "output_type": "stream",
     "text": [
      "  Product Month  Sales\n",
      "0       A   Jan    100\n",
      "1       B   Jan    150\n",
      "2       A   Feb    120\n",
      "3       B   Feb    130\n",
      "4       A   Mar    140\n",
      "5       B   Mar    160\n"
     ]
    }
   ],
   "source": [
    "sales = pd.DataFrame({\n",
    "    'Product': ['A', 'B'],\n",
    "    'Jan': [100, 150],\n",
    "    'Feb': [120, 130],\n",
    "    'Mar': [140, 160]\n",
    "})\n",
    "\n",
    "long_sales = pd.melt(sales, id_vars='Product', var_name='Month', value_name='Sales')\n",
    "print(long_sales)"
   ]
  },
  {
   "cell_type": "code",
   "execution_count": 28,
   "id": "0c60a283-c10c-47ae-9d6b-4b68892c2e9e",
   "metadata": {},
   "outputs": [
    {
     "name": "stdout",
     "output_type": "stream",
     "text": [
      "Month    Feb  Jan  Mar\n",
      "Product               \n",
      "A        120  100  140\n",
      "B        130  150  160\n",
      "Product  Month\n",
      "A        Feb      120\n",
      "         Jan      100\n",
      "         Mar      140\n",
      "B        Feb      130\n",
      "         Jan      150\n",
      "         Mar      160\n",
      "dtype: int64\n",
      "Month  Product\n",
      "Feb    A          120\n",
      "       B          130\n",
      "Jan    A          100\n",
      "       B          150\n",
      "Mar    A          140\n",
      "       B          160\n",
      "dtype: int64\n"
     ]
    }
   ],
   "source": [
    "reshaped = long_sales.pivot(index='Product', columns='Month', values='Sales') \n",
    "print(reshaped)\n",
    "\n",
    "multi = reshaped.stack() \n",
    "print(multi)\n",
    "print(reshaped.unstack())"
   ]
  },
  {
   "cell_type": "code",
   "execution_count": null,
   "id": "db9cf266-16d1-4c60-b267-0677a6780c3c",
   "metadata": {},
   "outputs": [],
   "source": []
  }
 ],
 "metadata": {
  "kernelspec": {
   "display_name": "Python 3 (ipykernel)",
   "language": "python",
   "name": "python3"
  },
  "language_info": {
   "codemirror_mode": {
    "name": "ipython",
    "version": 3
   },
   "file_extension": ".py",
   "mimetype": "text/x-python",
   "name": "python",
   "nbconvert_exporter": "python",
   "pygments_lexer": "ipython3",
   "version": "3.12.7"
  }
 },
 "nbformat": 4,
 "nbformat_minor": 5
}
