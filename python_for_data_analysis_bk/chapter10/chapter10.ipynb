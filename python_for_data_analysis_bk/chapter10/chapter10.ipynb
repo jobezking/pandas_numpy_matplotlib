{
 "cells": [
  {
   "cell_type": "code",
   "execution_count": 1,
   "id": "3bef10b3-718a-454d-93c7-5839f2040ac8",
   "metadata": {},
   "outputs": [],
   "source": [
    "import pandas as pd\n",
    "import numpy as np\n",
    "import matplotlib.pyplot as plt\n",
    "import seaborn as sns\n",
    "from scipy import stats\n",
    "from scipy.stats import chi2_contingency"
   ]
  },
  {
   "cell_type": "code",
   "execution_count": 3,
   "id": "f31049c2-0750-4af5-873c-c70044833054",
   "metadata": {},
   "outputs": [],
   "source": [
    "df = pd.read_csv('sales_data.csv', parse_dates=['Date'])"
   ]
  },
  {
   "cell_type": "code",
   "execution_count": null,
   "id": "8c893177-0af9-4f35-99c2-160c70974644",
   "metadata": {},
   "outputs": [],
   "source": []
  }
 ],
 "metadata": {
  "kernelspec": {
   "display_name": "Python 3 (ipykernel)",
   "language": "python",
   "name": "python3"
  },
  "language_info": {
   "codemirror_mode": {
    "name": "ipython",
    "version": 3
   },
   "file_extension": ".py",
   "mimetype": "text/x-python",
   "name": "python",
   "nbconvert_exporter": "python",
   "pygments_lexer": "ipython3",
   "version": "3.12.7"
  }
 },
 "nbformat": 4,
 "nbformat_minor": 5
}
