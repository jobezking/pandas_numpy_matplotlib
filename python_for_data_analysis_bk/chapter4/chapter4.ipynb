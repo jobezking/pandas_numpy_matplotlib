{
 "cells": [
  {
   "cell_type": "code",
   "execution_count": 1,
   "id": "ea10b3e9-211f-44d0-8f82-d65855260f93",
   "metadata": {},
   "outputs": [],
   "source": [
    "import pandas as pd"
   ]
  },
  {
   "cell_type": "code",
   "execution_count": 2,
   "id": "53d560f8-e0af-4a9a-8bcf-dbbbb5e37dfc",
   "metadata": {},
   "outputs": [
    {
     "name": "stdout",
     "output_type": "stream",
     "text": [
      "New York       22\n",
      "Los Angeles    27\n",
      "Chicago        24\n",
      "Houston        19\n",
      "dtype: int64\n"
     ]
    }
   ],
   "source": [
    "temperatures = pd.Series([22,27,24,19], index = ['New York', 'Los Angeles', 'Chicago', 'Houston'])\n",
    "print(temperatures)"
   ]
  },
  {
   "cell_type": "code",
   "execution_count": 4,
   "id": "0858266e-b30b-4dd4-8c98-f275ca443dc6",
   "metadata": {},
   "outputs": [
    {
     "name": "stdout",
     "output_type": "stream",
     "text": [
      "             Temperature  Humidity  Wind Speed\n",
      "New York              22        65          12\n",
      "Los Angeles           27        58          15\n",
      "Chicago               24        72          10\n",
      "Houston               19        80           8\n"
     ]
    }
   ],
   "source": [
    "data = {\n",
    "    'Temperature': [22,27,24,19],\n",
    "    'Humidity':[65,58,72,80],\n",
    "    'Wind Speed':[12,15,10,8]\n",
    "}\n",
    "\n",
    "weather_dataframe = pd.DataFrame(data, index = ['New York', 'Los Angeles', 'Chicago', 'Houston'])\n",
    "print(weather_dataframe)"
   ]
  },
  {
   "cell_type": "code",
   "execution_count": null,
   "id": "f0b33708-8688-4d43-8493-8c4fa4cf6d4f",
   "metadata": {},
   "outputs": [],
   "source": []
  }
 ],
 "metadata": {
  "kernelspec": {
   "display_name": "Python 3 (ipykernel)",
   "language": "python",
   "name": "python3"
  },
  "language_info": {
   "codemirror_mode": {
    "name": "ipython",
    "version": 3
   },
   "file_extension": ".py",
   "mimetype": "text/x-python",
   "name": "python",
   "nbconvert_exporter": "python",
   "pygments_lexer": "ipython3",
   "version": "3.12.7"
  }
 },
 "nbformat": 4,
 "nbformat_minor": 5
}
