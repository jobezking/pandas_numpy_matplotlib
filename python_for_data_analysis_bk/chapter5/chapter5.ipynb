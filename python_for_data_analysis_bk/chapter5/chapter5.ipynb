{
 "cells": [
  {
   "cell_type": "code",
   "execution_count": 1,
   "id": "c0e0f66d-e034-4907-a573-3686e6e8d0d3",
   "metadata": {},
   "outputs": [],
   "source": [
    "import pandas as pd"
   ]
  },
  {
   "cell_type": "code",
   "execution_count": 2,
   "id": "6ef158db-95c5-43ee-9306-aa4733b99727",
   "metadata": {},
   "outputs": [
    {
     "data": {
      "text/plain": [
       "Name      1\n",
       "Age       1\n",
       "Salary    1\n",
       "dtype: int64"
      ]
     },
     "execution_count": 2,
     "metadata": {},
     "output_type": "execute_result"
    }
   ],
   "source": [
    "data = {\n",
    "    'Name':['Anna', 'Brian', None, 'Diana', 'Eli'],\n",
    "    'Age':[28, None, 34, 40, 22],\n",
    "    'Salary':[50000, 60000, None, 80000, 45000]\n",
    "}\n",
    "\n",
    "df = pd.DataFrame(data)\n",
    "df.isnull()\n",
    "df.isnull().sum()"
   ]
  },
  {
   "cell_type": "code",
   "execution_count": 3,
   "id": "d511bad5-2e1f-432a-9d98-534cbbb4b452",
   "metadata": {},
   "outputs": [
    {
     "name": "stdout",
     "output_type": "stream",
     "text": [
      "    Name   Age   Salary\n",
      "0   Anna  28.0  50000.0\n",
      "3  Diana  40.0  80000.0\n",
      "4    Eli  22.0  45000.0\n"
     ]
    }
   ],
   "source": [
    "df_cleaned = df.dropna() \n",
    "print(df_cleaned)"
   ]
  },
  {
   "cell_type": "code",
   "execution_count": 7,
   "id": "c1b3ee7e-4bd3-4ef0-8748-90937ae71581",
   "metadata": {},
   "outputs": [
    {
     "name": "stdout",
     "output_type": "stream",
     "text": [
      "    Name  Age   Salary\n",
      "0   Anna  NaN  50000.0\n",
      "1  Brian  NaN  60000.0\n",
      "2   None  NaN      NaN\n",
      "3  Diana  NaN  80000.0\n",
      "4    Eli  NaN  45000.0\n"
     ]
    }
   ],
   "source": [
    "average_age = df['Age'].mean() \n",
    "df['Age'] = df['Age'].fillna(average_age) \n",
    "print(df)"
   ]
  },
  {
   "cell_type": "code",
   "execution_count": 12,
   "id": "8274ca05-9e66-440c-a8e8-787fec8ba408",
   "metadata": {},
   "outputs": [
    {
     "data": {
      "text/plain": [
       "0    False\n",
       "1    False\n",
       "2     True\n",
       "3    False\n",
       "4    False\n",
       "dtype: bool"
      ]
     },
     "execution_count": 12,
     "metadata": {},
     "output_type": "execute_result"
    }
   ],
   "source": [
    "data_with_duplicates = {\n",
    "    'Name': ['Anna', 'Brian', 'Brian', 'Diana', 'Eli'], \n",
    "    'Age': [28, 35, 35, 40, 22] \n",
    "} \n",
    "df_dup = pd.DataFrame(data_with_duplicates) \n",
    "df_dup.duplicated()"
   ]
  },
  {
   "cell_type": "code",
   "execution_count": 15,
   "id": "236b754e-2142-4db4-bff8-4a8151fff70e",
   "metadata": {},
   "outputs": [
    {
     "name": "stdout",
     "output_type": "stream",
     "text": [
      "    Name  Age\n",
      "0   Anna   28\n",
      "1  Brian   35\n",
      "3  Diana   40\n",
      "4    Eli   22\n",
      "    Name  Age\n",
      "0   Anna   28\n",
      "1  Brian   35\n",
      "3  Diana   40\n",
      "4    Eli   22\n"
     ]
    }
   ],
   "source": [
    "df_no_dup = df_dup.drop_duplicates()\n",
    "print(df_no_dup) \n",
    "df_no_dup = df_dup.drop_duplicates(subset=['Name'], keep='first')\n",
    "print(df_no_dup) "
   ]
  },
  {
   "cell_type": "code",
   "execution_count": 21,
   "id": "f32592b0-00b1-4566-91f7-8000987163b2",
   "metadata": {},
   "outputs": [
    {
     "name": "stdout",
     "output_type": "stream",
     "text": [
      "Age         object\n",
      "Salary      object\n",
      "JoinDate    object\n",
      "dtype: object\n"
     ]
    }
   ],
   "source": [
    "data = {\n",
    "    'Age': ['25', '30', '35', '40'],\n",
    "    'Salary': ['50000', '60000', '70000', '80000'],\n",
    "    'JoinDate': ['2021-01-15', '2020-07-30', '2019-05-20', '2022-03-10']\n",
    "} \n",
    "df = pd.DataFrame(data) \n",
    "print(df.dtypes)"
   ]
  },
  {
   "cell_type": "code",
   "execution_count": 22,
   "id": "be4eeb20-85c4-4a6c-b05d-42727a6d3ee6",
   "metadata": {},
   "outputs": [
    {
     "name": "stdout",
     "output_type": "stream",
     "text": [
      "Age          int64\n",
      "Salary       int64\n",
      "JoinDate    object\n",
      "dtype: object\n",
      "   Age  Salary    JoinDate\n",
      "0   25   50000  2021-01-15\n",
      "1   30   60000  2020-07-30\n",
      "2   35   70000  2019-05-20\n",
      "3   40   80000  2022-03-10\n"
     ]
    }
   ],
   "source": [
    "df['Age'] = pd.to_numeric(df['Age'], errors='coerce')\n",
    "df['Salary'] = pd.to_numeric(df['Salary'], errors='coerce')\n",
    "print(df.dtypes)\n",
    "print(df)"
   ]
  },
  {
   "cell_type": "code",
   "execution_count": 26,
   "id": "5375a79c-72f8-442d-8f9e-81ab4eddb818",
   "metadata": {},
   "outputs": [
    {
     "name": "stdout",
     "output_type": "stream",
     "text": [
      "   Age  Salary   JoinDate\n",
      "0   25   50000 2021-01-15\n",
      "1   30   60000 2020-07-30\n",
      "2   35   70000 2019-05-20\n",
      "3   40   80000 2022-03-10\n",
      "Age                  int64\n",
      "Salary               int64\n",
      "JoinDate    datetime64[ns]\n",
      "dtype: object\n"
     ]
    }
   ],
   "source": [
    "#Converting to DateTime\n",
    "df['JoinDate'] = pd.to_datetime(df['JoinDate'])\n",
    "print(df)\n",
    "print(df.dtypes)"
   ]
  },
  {
   "cell_type": "code",
   "execution_count": 28,
   "id": "06521177-9fdb-4e15-908a-c9059ce85539",
   "metadata": {},
   "outputs": [],
   "source": [
    "df['Age'] = df['Age'].astype('int') #astype is inflexible if data contains problematic values. Will raise an error instead of coercing."
   ]
  },
  {
   "cell_type": "code",
   "execution_count": 30,
   "id": "2de7d4ce-4d70-45ea-a85e-14d4449cf176",
   "metadata": {},
   "outputs": [
    {
     "name": "stdout",
     "output_type": "stream",
     "text": [
      "Original data types:\n",
      " Age         object\n",
      "Salary      object\n",
      "JoinDate    object\n",
      "dtype: object\n",
      "\n",
      "Data types after conversion:\n",
      " Age                float64\n",
      "Salary             float64\n",
      "JoinDate    datetime64[ns]\n",
      "dtype: object\n",
      "\n",
      "DataFrame after conversions:\n",
      "     Age   Salary   JoinDate\n",
      "0  25.0  50000.0 2021-01-15\n",
      "1  30.0  60000.0 2020-07-30\n",
      "2  35.0      NaN 2019-05-20\n",
      "3   NaN  80000.0        NaT\n"
     ]
    }
   ],
   "source": [
    "# Sample data with incorrect types\n",
    "data = {\n",
    "    'Age': ['25', '30', '35', 'forty'],  # note the 'forty' string\n",
    "    'Salary': ['50000', '60000', 'seventy thousand', '80000'],  # 'seventy thousand' is invalid\n",
    "    'JoinDate': ['2021-01-15', '2020-07-30', '2019-05-20', 'not a date']  # last is invalid\n",
    "}\n",
    "\n",
    "df = pd.DataFrame(data)\n",
    "# Inspect original dtypes\n",
    "print(\"Original data types:\\n\", df.dtypes)\n",
    "\n",
    "# Convert Age and Salary to numeric, coercing errors to NaN\n",
    "df['Age'] = pd.to_numeric(df['Age'], errors='coerce')\n",
    "df['Salary'] = pd.to_numeric(df['Salary'], errors='coerce')\n",
    "\n",
    "# Convert JoinDate to datetime, coercing errors\n",
    "df['JoinDate'] = pd.to_datetime(df['JoinDate'], errors='coerce')\n",
    "\n",
    "print(\"\\nData types after conversion:\\n\", df.dtypes)\n",
    "print(\"\\nDataFrame after conversions:\\n\", df)"
   ]
  },
  {
   "cell_type": "code",
   "execution_count": null,
   "id": "b85c2119-0af6-4200-b544-3ca25b39a133",
   "metadata": {},
   "outputs": [],
   "source": []
  }
 ],
 "metadata": {
  "kernelspec": {
   "display_name": "Python 3 (ipykernel)",
   "language": "python",
   "name": "python3"
  },
  "language_info": {
   "codemirror_mode": {
    "name": "ipython",
    "version": 3
   },
   "file_extension": ".py",
   "mimetype": "text/x-python",
   "name": "python",
   "nbconvert_exporter": "python",
   "pygments_lexer": "ipython3",
   "version": "3.12.7"
  }
 },
 "nbformat": 4,
 "nbformat_minor": 5
}
