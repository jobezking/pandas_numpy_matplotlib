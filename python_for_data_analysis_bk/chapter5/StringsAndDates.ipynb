{
 "cells": [
  {
   "cell_type": "code",
   "execution_count": null,
   "id": "f9d96daf-4e5b-4bf0-ad55-a322b554364a",
   "metadata": {},
   "outputs": [],
   "source": [
    "import pandas as pd\n",
    "import numpy as np\n",
    "from sklearn.preprocessing import MinMaxScaler, StandardScaler\n",
    "from sklearn.preprocessing import LabelEncoder"
   ]
  },
  {
   "cell_type": "code",
   "execution_count": 2,
   "id": "a839d7fb-68f0-4f3b-94fa-b99864bb2270",
   "metadata": {},
   "outputs": [
    {
     "name": "stdout",
     "output_type": "stream",
     "text": [
      "Original Reviews:\n",
      " 0                Great service!! \n",
      "1             delayed delivery :(\n",
      "2    Excellent, will buy again!!!\n",
      "Name: Review, dtype: object\n"
     ]
    }
   ],
   "source": [
    "data = {\n",
    "    'CustomerID':[101,102,103],\n",
    "    'Review': [' Great service!! ', 'delayed delivery :(', 'Excellent, will buy again!!!']\n",
    "}\n",
    "\n",
    "df = pd.DataFrame(data)\n",
    "print(\"Original Reviews:\\n\", df['Review'])"
   ]
  },
  {
   "cell_type": "code",
   "execution_count": 3,
   "id": "4f4f5bfd-3a6d-48f6-a261-f335f2187687",
   "metadata": {},
   "outputs": [
    {
     "name": "stdout",
     "output_type": "stream",
     "text": [
      "\n",
      "Cleaned Reviews:\n",
      " 0               great service\n",
      "1           delayed delivery \n",
      "2    excellent will buy again\n",
      "Name: CleanReview, dtype: object\n"
     ]
    }
   ],
   "source": [
    "df['CleanReview'] = df['Review'].str.strip()\n",
    "df['CleanReview'] = df['CleanReview'].str.lower()\n",
    "df['CleanReview'] = df['CleanReview'].str.replace(r'[^a-z0-9\\s]', '', regex=True)\n",
    "print(\"\\nCleaned Reviews:\\n\", df['CleanReview'])"
   ]
  },
  {
   "cell_type": "code",
   "execution_count": 4,
   "id": "67451037-7c29-405c-9141-e30051a579c9",
   "metadata": {},
   "outputs": [
    {
     "name": "stdout",
     "output_type": "stream",
     "text": [
      "  ProductCode NumericPart\n",
      "0    AB-12345       12345\n",
      "1    CD-67890       67890\n",
      "2    EF-13579       13579\n"
     ]
    }
   ],
   "source": [
    "df = pd.DataFrame({'ProductCode': ['AB-12345', 'CD-67890', 'EF-13579']})\n",
    "df['NumericPart'] = df['ProductCode'].str.extract(r'-(\\d+)')\n",
    "print(df)"
   ]
  },
  {
   "cell_type": "code",
   "execution_count": 5,
   "id": "5ac72e4f-7ae4-4b60-8b26-2b8075d92c31",
   "metadata": {},
   "outputs": [
    {
     "name": "stdout",
     "output_type": "stream",
     "text": [
      "     DateString       Date\n",
      "0    2023-05-20 2023-05-20\n",
      "1  May 20, 2023        NaT\n",
      "2    20/05/2023        NaT\n",
      "3      20230520        NaT\n"
     ]
    },
    {
     "name": "stderr",
     "output_type": "stream",
     "text": [
      "/tmp/ipykernel_15115/1282683819.py:3: UserWarning: Parsing dates in %Y-%m-%d format when dayfirst=True was specified. Pass `dayfirst=False` or specify a format to silence this warning.\n",
      "  df['Date'] = pd.to_datetime(df['DateString'], dayfirst=True, errors='coerce')\n"
     ]
    }
   ],
   "source": [
    "dates = ['2023-05-20', 'May 20, 2023', '20/05/2023', '20230520']\n",
    "df = pd.DataFrame({'DateString': dates})\n",
    "df['Date'] = pd.to_datetime(df['DateString'], dayfirst=True, errors='coerce')\n",
    "print(df)"
   ]
  },
  {
   "cell_type": "code",
   "execution_count": 6,
   "id": "83cb727d-88a7-4cc1-9b6e-1473ec8a5439",
   "metadata": {},
   "outputs": [
    {
     "name": "stdout",
     "output_type": "stream",
     "text": [
      "     DateString       Date    Year  Month   Day\n",
      "0    2023-05-20 2023-05-20  2023.0    5.0  20.0\n",
      "1  May 20, 2023        NaT     NaN    NaN   NaN\n",
      "2    20/05/2023        NaT     NaN    NaN   NaN\n",
      "3      20230520        NaT     NaN    NaN   NaN\n"
     ]
    }
   ],
   "source": [
    "df['Year'] = df['Date'].dt.year\n",
    "df['Month'] = df['Date'].dt.month\n",
    "df['Day'] = df['Date'].dt.day\n",
    "print(df)"
   ]
  },
  {
   "cell_type": "code",
   "execution_count": 7,
   "id": "a2b6c70d-467b-4394-855c-0d592ee964c6",
   "metadata": {},
   "outputs": [
    {
     "name": "stdout",
     "output_type": "stream",
     "text": [
      "   DateString       Date\n",
      "0  2023-05-20 2023-05-20\n",
      "1  not a date        NaT\n",
      "2  2022-12-01 2022-12-01\n"
     ]
    }
   ],
   "source": [
    "bad_dates = ['2023-05-20', 'not a date', '2022-12-01']\n",
    "df = pd.DataFrame({'DateString': bad_dates})\n",
    "df['Date'] = pd.to_datetime(df['DateString'], errors='coerce')\n",
    "print(df)"
   ]
  },
  {
   "cell_type": "code",
   "execution_count": 9,
   "id": "bce420fe-7cad-4fac-9583-fab392bb395c",
   "metadata": {},
   "outputs": [
    {
     "name": "stdout",
     "output_type": "stream",
     "text": [
      "                Timestamp  Hour  Minute\n",
      "0 2023-05-20 14:23:45.123  14.0    23.0\n",
      "1 2023-05-21 15:00:00.000  15.0     0.0\n",
      "2                     NaT   NaN     NaN\n"
     ]
    }
   ],
   "source": [
    "log_data = {\n",
    "    'Timestamp': ['2023-05-20 14:23:45.123', '2023-05-21 15:00:00.000', 'invalid timestamp']\n",
    "}\n",
    "df = pd.DataFrame(log_data)\n",
    "df['Timestamp'] = pd.to_datetime(df['Timestamp'], errors='coerce')\n",
    "\n",
    "# Extract hour and minute for time-based analysis\n",
    "df['Hour'] = df['Timestamp'].dt.hour \n",
    "df['Minute'] = df['Timestamp'].dt.minute\n",
    "print(df)"
   ]
  },
  {
   "cell_type": "code",
   "execution_count": 11,
   "id": "15d2ca18-4256-43d0-b491-f4120d1dbff9",
   "metadata": {},
   "outputs": [
    {
     "name": "stdout",
     "output_type": "stream",
     "text": [
      "   Age  Income  Age_scaled  Income_scaled   Age_std  Income_std\n",
      "0   25   50000    0.000000       0.000000 -1.382872   -1.224745\n",
      "1   32   60000    0.189189       0.142857 -0.856780   -0.816497\n",
      "2   47   80000    0.594595       0.428571  0.270562    0.000000\n",
      "3   51  120000    0.702703       1.000000  0.571186    1.632993\n",
      "4   62   90000    1.000000       0.571429  1.397904    0.408248\n"
     ]
    }
   ],
   "source": [
    "data = {\n",
    "    'Age':[25,32,47,51,62],\n",
    "    'Income': [50000, 60000, 80000, 120000, 90000]\n",
    "}\n",
    "df = pd.DataFrame(data)\n",
    "\n",
    "#Min-Max Scaling\n",
    "scaler = MinMaxScaler()\n",
    "df[['Age_scaled', 'Income_scaled']] = scaler.fit_transform(df[['Age', 'Income']])\n",
    "\n",
    "#Standardization\n",
    "standardizer = StandardScaler()\n",
    "df[['Age_std', 'Income_std']] = standardizer.fit_transform(df[['Age', 'Income']])\n",
    "\n",
    "print(df)"
   ]
  },
  {
   "cell_type": "code",
   "execution_count": 13,
   "id": "d39369da-eba1-4dfd-bfb2-5670a04a7d99",
   "metadata": {},
   "outputs": [
    {
     "name": "stdout",
     "output_type": "stream",
     "text": [
      "One-Hot Encoding:\n",
      "    Color_blue  Color_green  Color_red\n",
      "0       False        False       True\n",
      "1        True        False      False\n",
      "2       False         True      False\n",
      "3        True        False      False\n",
      "4       False        False       True\n",
      "\n",
      "Label Encoding:\n",
      "    Color  Color_label\n",
      "0    red            2\n",
      "1   blue            0\n",
      "2  green            1\n",
      "3   blue            0\n",
      "4    red            2\n"
     ]
    }
   ],
   "source": [
    "df_cat = pd.DataFrame({'Color': ['red', 'blue', 'green', 'blue', 'red']})\n",
    "\n",
    "#One-Hot Encoding\n",
    "one_hot = pd.get_dummies(df_cat['Color'],prefix='Color')\n",
    "\n",
    "#Label Encoding\n",
    "from sklearn.preprocessing import LabelEncoder\n",
    "label_encoder = LabelEncoder()\n",
    "df_cat['Color_label'] = label_encoder.fit_transform(df_cat['Color'])\n",
    "\n",
    "print(\"One-Hot Encoding:\\n\", one_hot) \n",
    "print(\"\\nLabel Encoding:\\n\", df_cat)"
   ]
  },
  {
   "cell_type": "code",
   "execution_count": 14,
   "id": "cd2d6d12-2ae5-422d-ac93-e44bfcd866b3",
   "metadata": {},
   "outputs": [
    {
     "name": "stdout",
     "output_type": "stream",
     "text": [
      "   Year  Month  Day       Date\n",
      "0  2023      5   20 2023-05-20\n",
      "1  2024      6   15 2024-06-15\n"
     ]
    }
   ],
   "source": [
    "df_dates = pd.DataFrame({\n",
    "    'Year': [2023, 2024],\n",
    "    'Month': [5, 6],\n",
    "    'Day': [20, 15]\n",
    "})\n",
    "\n",
    "df_dates['Date'] = pd.to_datetime(df_dates[['Year', 'Month', 'Day']])\n",
    "print(df_dates)"
   ]
  },
  {
   "cell_type": "code",
   "execution_count": 15,
   "id": "76767398-cd40-4413-9d63-5cb7a818b109",
   "metadata": {},
   "outputs": [
    {
     "name": "stdout",
     "output_type": "stream",
     "text": [
      "              Review  Review_length\n",
      "0               Good              4\n",
      "1  Excellent service             17\n",
      "2               Poor              4\n"
     ]
    }
   ],
   "source": [
    "df_text = pd.DataFrame({'Review': ['Good', 'Excellent service', 'Poor']})\n",
    "df_text['Review_length'] = df_text['Review'].str.len() \n",
    "print(df_text)"
   ]
  },
  {
   "cell_type": "code",
   "execution_count": 16,
   "id": "f7f6a3f9-aafd-4c36-bffe-ce2a02e24d9d",
   "metadata": {},
   "outputs": [
    {
     "name": "stdout",
     "output_type": "stream",
     "text": [
      "   Score Grade\n",
      "0     85     B\n",
      "1     92     A\n",
      "2     78     C\n",
      "3     90     A\n"
     ]
    }
   ],
   "source": [
    "df = pd.DataFrame({'Score': [85, 92, 78, 90]})\n",
    "\n",
    "def grade(score):\n",
    "    if score >= 90:\n",
    "        return 'A'\n",
    "    elif score >= 80:\n",
    "        return 'B'\n",
    "    else:\n",
    "        return 'C'\n",
    "\n",
    "df['Grade'] = df['Score'].apply(grade) \n",
    "print(df)"
   ]
  },
  {
   "cell_type": "code",
   "execution_count": 17,
   "id": "bbb4434b-452e-4caf-a4a8-afcfbe566261",
   "metadata": {},
   "outputs": [
    {
     "name": "stdout",
     "output_type": "stream",
     "text": [
      "  City      City_full\n",
      "0   NY       New York\n",
      "1   LA    Los Angeles\n",
      "2   SF  San Francisco\n",
      "3   LA    Los Angeles\n"
     ]
    }
   ],
   "source": [
    "df_map = pd.DataFrame({'City': ['NY', 'LA', 'SF', 'LA']})\n",
    "mapping = {'NY': 'New York', 'LA': 'Los Angeles', 'SF': 'San Francisco'}\n",
    "df_map['City_full'] = df_map['City'].map(mapping)\n",
    "print(df_map)"
   ]
  },
  {
   "cell_type": "code",
   "execution_count": 20,
   "id": "adec8f51-c9b8-4e33-9d66-2bac3ec33445",
   "metadata": {},
   "outputs": [
    {
     "name": "stdout",
     "output_type": "stream",
     "text": [
      "    Income  Log_Income\n",
      "0    30000   10.308953\n",
      "1    50000   10.819778\n",
      "2  1000000   13.815511\n",
      "3    40000   10.596635\n",
      "4    60000   11.002100\n"
     ]
    }
   ],
   "source": [
    "df = pd.DataFrame({'Income': [30000, 50000, 1000000, 40000, 60000]})\n",
    "df['Log_Income'] = np.log(df['Income'])\n",
    "print(df)"
   ]
  },
  {
   "cell_type": "code",
   "execution_count": null,
   "id": "e8d8432d-ef70-4dfe-aab2-d06b3260bf22",
   "metadata": {},
   "outputs": [],
   "source": []
  }
 ],
 "metadata": {
  "kernelspec": {
   "display_name": "Python 3 (ipykernel)",
   "language": "python",
   "name": "python3"
  },
  "language_info": {
   "codemirror_mode": {
    "name": "ipython",
    "version": 3
   },
   "file_extension": ".py",
   "mimetype": "text/x-python",
   "name": "python",
   "nbconvert_exporter": "python",
   "pygments_lexer": "ipython3",
   "version": "3.12.7"
  }
 },
 "nbformat": 4,
 "nbformat_minor": 5
}
